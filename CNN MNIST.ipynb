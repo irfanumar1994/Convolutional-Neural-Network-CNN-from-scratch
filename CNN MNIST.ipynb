{
 "cells": [
  {
   "cell_type": "code",
   "execution_count": 14,
   "metadata": {},
   "outputs": [],
   "source": []
  },
  {
   "cell_type": "code",
   "execution_count": 1,
   "metadata": {},
   "outputs": [],
   "source": [
    "# Include libraries which may use in implementation\n",
    "import numpy as np\n",
    "import random\n",
    "import math\n",
    "import pickle\n",
    "import json\n",
    "from sklearn.utils import shuffle\n",
    "import glob\n",
    "import cv2 \n",
    "import time\n",
    "import matplotlib.pyplot as plt\n",
    "# from sklearn.metrics import accuracy_score\n",
    "%matplotlib inline"
   ]
  },
  {
   "cell_type": "markdown",
   "metadata": {},
   "source": [
    "\n",
    "# Loading MNIST dataset"
   ]
  },
  {
   "cell_type": "code",
   "execution_count": 2,
   "metadata": {},
   "outputs": [],
   "source": [
    "def loadDataset(path):\n",
    "    print('Loading Dataset...')\n",
    "    train_x, train_y, test_x, test_y = [], [], [], []\n",
    "    for i in range(10):\n",
    "        for filename in glob.glob(path + str(i)+'\\\\*.png'): #+ '\\\\train\\\\' \n",
    "            im = cv2.imread(filename,0) #reading in greyscale\n",
    "            train_x.append(im)\n",
    "            train_y.append(i)\n",
    "    for i in range(10):\n",
    "        for filename in glob.glob(path2  + str(i)+'\\\\*.png'): #+ '\\\\test\\\\'\n",
    "            im=cv2.imread(filename,0)\n",
    "            test_x.append(im)\n",
    "            test_y.append(i)\n",
    "    print('Dataset loaded...')\n",
    "    return np.array(train_x), np.array(train_y), np.array(test_x),np.array(test_y)\n"
   ]
  },
  {
   "cell_type": "code",
   "execution_count": 5,
   "metadata": {},
   "outputs": [
    {
     "name": "stdout",
     "output_type": "stream",
     "text": [
      "Loading Dataset...\n",
      "Dataset loaded...\n"
     ]
    }
   ],
   "source": [
    "# path = 'D:\\study material\\MSDS-ITU\\semester2\\DL\\Assignments\\Assignment2\\Task3_DataFull'\n",
    "path = 'D:Assignment\\data'\n",
    "train_set_x, train_set_y, test_set_x, test_set_y = loadDataset (path)"
   ]
  },
  {
   "cell_type": "code",
   "execution_count": 6,
   "metadata": {},
   "outputs": [
    {
     "name": "stdout",
     "output_type": "stream",
     "text": [
      "train_set_x.shape :  (28, 28, 28) \n",
      " train_set_y.shape:  (28,) \n",
      " test_set_x.shape:  (30, 28, 28) \n",
      "  test_set_y.shape : (30,) \n",
      "\n"
     ]
    }
   ],
   "source": [
    "print( \"train_set_x.shape : \",train_set_x.shape ,\"\\n train_set_y.shape: \", train_set_y.shape,\"\\n test_set_x.shape: \", test_set_x.shape, \"\\n  test_set_y.shape :\",test_set_y.shape, \"\\n\")"
   ]
  },
  {
   "cell_type": "code",
   "execution_count": 7,
   "metadata": {},
   "outputs": [
    {
     "name": "stdout",
     "output_type": "stream",
     "text": [
      "train_set_x.shape :  (28, 28, 28, 1) \n",
      " train_set_y.shape:  (28, 1) \n",
      " test_set_x.shape:  (30, 28, 28, 1) \n",
      "  test_set_y.shape : (30, 1) \n",
      "\n"
     ]
    }
   ],
   "source": [
    "#Converting into our required dimensions given in pdf\n",
    "train_set_y=np.expand_dims(train_set_y, axis=1)\n",
    "test_set_y = np.expand_dims(test_set_y, axis=1)\n",
    "train_set_x=np.expand_dims(train_set_x, axis=3)\n",
    "test_set_x = np.expand_dims(test_set_x, axis=3)\n",
    "print( \"train_set_x.shape : \",train_set_x.shape ,\"\\n train_set_y.shape: \", train_set_y.shape,\"\\n test_set_x.shape: \", test_set_x.shape, \"\\n  test_set_y.shape :\",test_set_y.shape, \"\\n\")"
   ]
  },
  {
   "cell_type": "code",
   "execution_count": 8,
   "metadata": {},
   "outputs": [],
   "source": [
    "def Encode(l):\n",
    "    no_of_classes = 10\n",
    "    c = np.arange(no_of_classes)\n",
    "    one_hot = (c == l).astype(np.int)\n",
    "    return one_hot"
   ]
  },
  {
   "cell_type": "code",
   "execution_count": 9,
   "metadata": {},
   "outputs": [],
   "source": [
    "def split_encode(train_set_x,train_set_y,test_set_x, test_set_y):\n",
    "    trainPercentage = 0.75\n",
    "    testPercantage= 0.25\n",
    "    \n",
    "    train_set_y=Encode(train_set_y)\n",
    "    testY = Encode(test_set_y)\n",
    "    \n",
    "    X, y = shuffle(train_set_x, train_set_y)\n",
    "    test_set_x,testY = shuffle(test_set_x,testY)\n",
    "    \n",
    "    trainX = X[:int(trainPercentage * len(X))] # training data point\n",
    "    trainY = y[:int(trainPercentage * len(y))] # training lables\n",
    "\n",
    "    validX = X[int(trainPercentage * len(X)) :  ] # validation data point\n",
    "    validY = y[int(trainPercentage * len(y))  : ]# validation lables\n",
    "    \n",
    "    return trainX,trainY,validX,validY,test_set_x,testY"
   ]
  },
  {
   "cell_type": "code",
   "execution_count": 20,
   "metadata": {},
   "outputs": [],
   "source": [
    "trainX,trainY,validX,validY,testX,testY = split_encode(train_set_x,train_set_y,test_set_x, test_set_y)"
   ]
  },
  {
   "cell_type": "code",
   "execution_count": 21,
   "metadata": {},
   "outputs": [
    {
     "name": "stdout",
     "output_type": "stream",
     "text": [
      "trainX,trainY,validX,validY,testX,testY >> \n",
      " (21, 28, 28, 1) (21, 10) (7, 28, 28, 1) (7, 10) (30, 28, 28, 1) (30, 10)\n"
     ]
    }
   ],
   "source": [
    "print(\"trainX,trainY,validX,validY,testX,testY >> \\n\", trainX.shape,trainY.shape,validX.shape,validY.shape,testX.shape,testY.shape)"
   ]
  },
  {
   "cell_type": "code",
   "execution_count": 25,
   "metadata": {},
   "outputs": [],
   "source": [
    "# Create a Neural_Network class\n",
    "class Neural_Network(object):    \n",
    "    def __init__(self,no_of_layers = 2, input_dim = 1296, neurons_per_layer =[600,160,10],nf =1,depth=1,w=1):        \n",
    "        # size of layers\n",
    "        self.inputSize = input_dim\n",
    "        self.depth = depth\n",
    "        #NNweights\n",
    "        self.W1 = np.random.randn(self.inputSize,neurons_per_layer[0] )\n",
    "        self.b1 = np.ones((1,neurons_per_layer[0]))\n",
    "        self.W2 = np.random.randn(neurons_per_layer[0],neurons_per_layer[1] )\n",
    "        self.b2 = np.ones((1,neurons_per_layer[1]))\n",
    "        self.W3 = np.random.randn(neurons_per_layer[1], neurons_per_layer[2] )\n",
    "        self.b3 = np.ones((1,neurons_per_layer[2]))\n",
    "        #cnnWeights\n",
    "        self.cnnfilters = self.createFilters(nf,self.depth,w) #3 filters of 3 X 3 with given depth=4\n",
    "        self.cnnbiases = self.createFilters(nf,self.depth,1)\n",
    "        self.errorTrain =[]\n",
    "        self.errorValid =[]\n",
    "        self.ValidationAccuracy =[]\n",
    "        self.TraingingAccuracy = []\n",
    "\n",
    "\n",
    "    def plotFilters(self,depth, data):\n",
    "        for i in range(depth):\n",
    "            plt.subplot(6,6,i+1)\n",
    "            plt.axis('off')\n",
    "            plt.imshow(data[:,:,i], cmap = 'gray')\n",
    "            \n",
    "    def RandomlyInitilizeFilters(self,depth, w):\n",
    "        output = np.zeros((depth,w,w))\n",
    "        for i in range(depth):\n",
    "            output[i] = np.random.randn(w,w)\n",
    "        output = np.rollaxis(output, 0,3)\n",
    "        return output\n",
    "    \n",
    "    def createFilters(self,numOfFilters,depth,w):\n",
    "        output = []\n",
    "        for i in range(numOfFilters):\n",
    "            filters = self.RandomlyInitilizeFilters(depth,w)\n",
    "    #         plotFilters(filters.shape[2], filters)\n",
    "            output.append(filters)\n",
    "        output = np.array(output)\n",
    "        print(output.shape)\n",
    "        return output    \n",
    "    \n",
    "    def Encode(self,l):\n",
    "        c = np.arange(10)\n",
    "        one_hot = (c == l).astype(np.int)\n",
    "        return one_hot    \n",
    "    \n",
    "    def feedforward(self, X):\n",
    "        \n",
    "        self.l1 = np.dot(X, self.W1) + self.b1 \n",
    "        self.a1 = self.sigmoid(self.l1)\n",
    "        self.l2 = np.dot(self.a1, self.W2) + self.b2  \n",
    "        self.a2 = self.sigmoid(self.l2)\n",
    "        self.l3 = np.dot(self.a2, self.W3) + self.b3 \n",
    "        self.a3 = self.softmax(self.l3)\n",
    "\n",
    "        return self.a3\n",
    "        \n",
    "    def softmax(self, X):\n",
    "        exps = np.exp(X - np.max(X))\n",
    "        return exps / np.sum(exps, axis=1, keepdims= True)\n",
    "\n",
    "    def softmax_derivative(softmax):\n",
    "        s = softmax.reshape(-1,1)\n",
    "        return np.diagflat(s) - np.dot(s, s.T)\n",
    "\n",
    "    def sigmoid(self, x):\n",
    "        # activation function\n",
    "        sig_x = np.zeros(x.shape)\n",
    "        \n",
    "        # protection from overflow and underflow\n",
    "        low_x = -30\n",
    "        up_x  = 30\n",
    "        \n",
    "        sig_x[x< low_x]=0\n",
    "        sig_x[x> up_x ]=1\n",
    "        \n",
    "        safe_x = x[(x>= low_x) & (x<= up_x)]\n",
    "        sig_x[(x>= low_x) & (x<= up_x)] = np.exp(safe_x)/(1+np.exp(safe_x))\n",
    "          \n",
    "        return sig_x\n",
    "        # return (1/ (1 + np.exp(-s))) # apply sigmoid function on s and return it's value\n",
    "\n",
    "    def sigmoid_derivative(self, s):\n",
    "        #derivative of sigmoid\n",
    "#         s = self.sigmoid(s)\n",
    "        sigmoidDerivative = s * (1 - s)\n",
    "        return sigmoidDerivative # apply derivative of sigmoid on s and return it's value \n",
    "    \n",
    "    def backwardpropagate(self,X, Y, y_pred, lr):\n",
    "        L3 = (y_pred- Y)\n",
    "        norm = 1/X.shape[0]\n",
    "        dw3 = np.dot(self.a2.T, L3) * norm\n",
    "        db3 = np.sum(L3, axis=0, keepdims = True)* norm\n",
    "        da2 =self.sigmoid_derivative(self.a2)\n",
    "        L2 = np.multiply(np.dot(L3,self.W3.T),da2 )\n",
    "        dw2 = np.dot(self.a1.T, L2)* norm\n",
    "        db2 = np.sum(L2, axis=0, keepdims = True)* norm\n",
    "        da1 = self.sigmoid_derivative(self.a1)\n",
    "        L1 = np.multiply(np.dot(L2,self.W2.T),da1 )\n",
    "        dw1 = np.dot(X.T, L1)* norm\n",
    "        db1 = np.sum(L1, axis=0, keepdims = True)* norm\n",
    "        \n",
    "        L0 = np.dot(L1,self.W1.T)\n",
    "        \n",
    "        self.W1 -= lr * dw1\n",
    "        self.b1 -= lr * db1\n",
    "        self.W2 -= lr * dw2\n",
    "        self.b2 -= lr * db2\n",
    "        self.W3 -= lr * dw3\n",
    "        self.b3 -= lr * db3\n",
    "        \n",
    "#         print(\"L0>> \",L0.shape,\"L1 >> \",L1.shape,\"L2 >> \",L2.shape,\"L3 >> \",L3.shape)\n",
    "        return L0\n",
    "        \n",
    "   \n",
    "    def crossentropy(self, Y, Y_pred):\n",
    "        cerror = - np.sum(Y * np.log2 (Y_pred + 1e-8)) /len(Y)\n",
    "        return cerror #error\n",
    "\n",
    "    def train(self, trainX, trainY,pad =0, stride =2, f =3,Pmode = \"max\",epochs = 100, learningRate = 0.001,gr_size = 1, plot_err = True ,validationX = 'Null', validationY = 'Null'):\n",
    "\n",
    "        \n",
    "        trainX = trainX/255\n",
    "        validationX=validationX/255\n",
    "        \n",
    "        \n",
    "        for i in range(epochs):\n",
    "            startTime = time.time()\n",
    "            for j in range(0, trainX.shape[0], gr_size):\n",
    "                data = trainX[j:j+gr_size]\n",
    "                label = trainY[j:j+gr_size]\n",
    "                #Forward\n",
    "                ConvolutedData =self.conv_forward(data, self.cnnfilters, self.cnnbiases, pad, stride)\n",
    "                # ConvolutedData = self.ReLU(ConvolutedData)\n",
    "                \n",
    "                PooledData = self.pool_forward(ConvolutedData,f, stride, mode = Pmode)\n",
    "                \n",
    "                x = self.flatten(PooledData)\n",
    "                predictionT = self.feedforward(x)\n",
    "                L0 = self.backwardpropagate(X=x, Y=label, y_pred= predictionT,lr= learningRate )\n",
    "                ux = self.unflatten(L0)\n",
    "                \n",
    "                #Backward\n",
    "                dpool = self.pool_backward(ux, ConvolutedData,f,mode =Pmode)\n",
    "                lr = 0.01\n",
    "                # dpool = self.dReLU(dpool)\n",
    "                self.conv_backward(dpool,data, self.cnnfilters, self.cnnbiases, pad , lr,gr_size)\n",
    "                \n",
    "\n",
    "            #Training.................................\n",
    "            self.saveModel('h')\n",
    "            endTime = time.time() - startTime\n",
    "            h=endTime/3600\n",
    "            print(h,\" ...............................................\")\n",
    "            ConvolutedData =self.conv_forward(trainX, self.cnnfilters, self.cnnbiases, pad, stride)\n",
    "            # ConvolutedData = self.ReLU(ConvolutedData)\n",
    "            PooledData = self.pool_forward(ConvolutedData,f, stride, mode = Pmode)\n",
    "            x = self.flatten(PooledData)\n",
    "            predT = self.feedforward(x)\n",
    "            self.errorTrain.append(self.crossentropy(Y=trainY,Y_pred =predT))\n",
    "#             print(confusion_matrix(trainY, predT))\n",
    "            self.TraingingAccuracy.append(self.accuracy(predT,trainY))\n",
    "            \n",
    "            #Validation................................\n",
    "\n",
    "            ConvolutedData =self.conv_forward(validationX, self.cnnfilters, self.cnnbiases, pad, stride)\n",
    "            # ConvolutedData = self.ReLU(ConvolutedData)\n",
    "            PooledData = self.pool_forward(ConvolutedData,f, stride, mode = Pmode)\n",
    "            x = self.flatten(PooledData)\n",
    "            predT = self.feedforward(x)\n",
    "            \n",
    "            self.errorValid.append(self.crossentropy(Y=validationY,Y_pred = predT))\n",
    "            self.ValidationAccuracy.append(self.accuracy(predT,validationY))\n",
    "            \n",
    "#             endTime = time.time() - endTime\n",
    "#             h=endTime/3600\n",
    "            print(\"epoch: \", i,\">> T error: \",self.errorTrain[-1],\"V error: \",self.errorValid[-1], \"T acc: \", self.TraingingAccuracy[-1], \"V acc :\",self.ValidationAccuracy[-1])\n",
    "\n",
    "            self.saveError(\"s\")\n",
    "        \n",
    "        if(plot_err): #Training Loss\n",
    "            plt.plot(range(len(self.errorTrain)), self.errorTrain, label = 'Training loss curve')\n",
    "            plt.legend()\n",
    "            plt.title('loss curves')\n",
    "        if(validationX != 'Null' and validationY != 'Null'):\n",
    "            plt.plot(range(len(self.errorValid)), self.errorValid, label = 'Validation loss curve')\n",
    "            plt.legend()\n",
    "            plt.xlabel('Epochs') \n",
    "            plt.ylabel('Entropy Loss') \n",
    "            plt.show()\n",
    "            \n",
    "            plt.plot(range(len(self.TraingingAccuracy)), self.TraingingAccuracy, label = 'Trainging accuracy')\n",
    "            plt.plot(range(len(self.ValidationAccuracy)), self.ValidationAccuracy, label = 'Validation accuracy')\n",
    "            plt.legend()\n",
    "            plt.title('Accuracy curves' )\n",
    "            plt.xlabel('Epochs') \n",
    "            plt.ylabel('Accuracy') \n",
    "            plt.show()\n",
    "        \n",
    "    def saveError(self,m):\n",
    "        saved_model2 = np.save(\"et.npy\", self.errorTrain)\n",
    "        saved_model3 = np.save('ev.npy', self.errorValid)\n",
    "        saved_model4 = np.save(\"va.npy\", self.ValidationAccuracy)\n",
    "        saved_model5 = np.save(\"av.npy\", self.TraingingAccuracy)\n",
    "        \n",
    "    def predict(self, testX):\n",
    "        # predict the value of testX\n",
    "        return self.feedforward(testX)\n",
    "    \n",
    "    def test_accuracy(self,X,Y, pad, stride, f, Pmode):\n",
    "        X = X/255\n",
    "        ConvolutedData =self.conv_forward(X, self.cnnfilters, self.cnnbiases, pad, stride)\n",
    "        # ConvolutedData = self.ReLU(ConvolutedData)\n",
    "        PooledData = self.pool_forward(ConvolutedData,f, stride, mode = Pmode)\n",
    "        x = self.flatten(PooledData)\n",
    "        predT = self.feedforward(x)\n",
    "        ta = self.accuracy(predT,Y)\n",
    "        print(\"test accuracy\",ta)\n",
    "        \n",
    "    def ReLU(self,x):\n",
    "        return x * (x > 0)\n",
    "    def dReLU(self,x):\n",
    "        return 1. * (x > 0)\n",
    "    \n",
    "    def accuracy(self, X, Y):\n",
    "    \n",
    "#         test_pred = self.predict(X)\n",
    "        test_pred =X\n",
    "        pred = np.argmax(test_pred, axis=1)\n",
    "        y = np.argmax(Y, axis=1)        \n",
    "        accuracy = (pred == y)\n",
    "        accuracy = np.mean(accuracy)\n",
    "        accuracy =accuracy * 100\n",
    "#         print(accuracy)\n",
    "        \n",
    "        return accuracy\n",
    "\n",
    "    def conv_single_step(self,cslice, f, b):\n",
    "        Z = np.sum(np.multiply(cslice,f)) #+ b.astype(float)\n",
    "        return Z\n",
    "    \n",
    "    def conv_forward(self,data, filters, biases, pad, stride):\n",
    "        # filters = filters.transpose(1,2,3,0)\n",
    "        # x = tf.nn.conv2d((data).astype('float32'), filters, strides=[1, stride, stride, 1], padding='SAME')\n",
    "        # return x\n",
    "        \n",
    "        n = data.shape[0]\n",
    "        n_H_prev = data.shape[1]\n",
    "        n_W_prev = data.shape[2]\n",
    "        \n",
    "        (numOfFilters, fH,fW,fD) = filters.shape\n",
    "\n",
    "        n_H = int((n_H_prev + 2*pad - fH)/stride) + 1\n",
    "        n_W =int((n_W_prev + 2*pad - fW)/stride) + 1\n",
    "\n",
    "        C = np.zeros([n, n_H, n_W, numOfFilters]) # OutputShape\n",
    "#         print(\"C\",C.shape)\n",
    "\n",
    "        for i in range(n):                               \n",
    "            cur_data = data[i,:,:,:] \n",
    "            for h in range(n_H):                    \n",
    "                for w in range(n_W):\n",
    "                    for j in range(numOfFilters):\n",
    "                        vert_start = h*stride\n",
    "                        vert_end = h*stride + fH\n",
    "                        horiz_start = w*stride \n",
    "                        horiz_end = w*stride + fW\n",
    "                        \n",
    "                        currentSlice = cur_data[vert_start:vert_end,horiz_start:horiz_end,:]\n",
    "                        C[i, h, w, j] = self.conv_single_step(currentSlice, filters[j, :, :, :], biases[j,:,:,:])\n",
    "\n",
    "        # print(\"Convolution Forward: \", C.shape)\n",
    "        return C\n",
    "\n",
    "    def pool_forward(self,ConvolutedData,f, stride, mode = \"max\"):\n",
    "\n",
    "        (n, n_H_prev, n_W_prev, n_Filters) = ConvolutedData.shape\n",
    "\n",
    "        n_H = int(1 + (n_H_prev - f) / stride)\n",
    "        n_W = int(1 + (n_W_prev - f) / stride)\n",
    "        n_D = n_Filters\n",
    "\n",
    "        PooledData = np.zeros((n, n_H, n_W, n_D))              \n",
    "#         print(PooledData.shape)\n",
    "        for i in range(n):                  \n",
    "            for h in range(n_H):     \n",
    "                for w in range(n_W):\n",
    "                    for d in range (n_D): \n",
    "\n",
    "                        vert_start = h*stride\n",
    "                        vert_end = h*stride +f\n",
    "                        horiz_start = w*stride\n",
    "                        horiz_end = w*stride + f\n",
    "                        \n",
    "                        currentSlice = ConvolutedData[i, vert_start:vert_end, horiz_start:horiz_end,d]\n",
    "                        if mode == \"max\":\n",
    "                            PooledData[i, h, w, d] = np.max(currentSlice) ##Maximum return\n",
    "                        elif mode == \"avg\":\n",
    "                            PooledData[i, h, w, d] = np.mean(currentSlice)\n",
    "\n",
    "\n",
    "        # print(\"PooledData : \",PooledData.shape)\n",
    "        return PooledData\n",
    "    \n",
    "    def conv_backward(self,dpool,cdata, filters, biases, pad,lr,gr_size):\n",
    "\n",
    "        (numOfFilters, fh, fw, fd) = filters.shape\n",
    "        (n, n_H, n_W, n_D) = dpool.shape\n",
    "        \n",
    "        dcdata = np.zeros(cdata.shape)                           \n",
    "        dfilters = np.zeros(filters.shape)\n",
    "        dbiases = np.zeros((numOfFilters, 1, 1, fd))\n",
    "        \n",
    "#         print(\"dcdata\",dcdata.shape,\"dfilters\",dfilters.shape,\"dbiases\",dbiases.shape)\n",
    "\n",
    "        for i in range(n):                      \n",
    "            for h in range(n_H):   \n",
    "                for w in range(n_W):         \n",
    "                    for d in range(numOfFilters):   \n",
    "\n",
    "                        vert_start = h\n",
    "                        vert_end = vert_start + fh\n",
    "                        horiz_start = w\n",
    "                        horiz_end = horiz_start + fw\n",
    "                        \n",
    "                        dcdata[i,vert_start:vert_end, horiz_start:horiz_end,:] += np.flip(filters[d,:,:,:]) * dpool[i,h, w,d]\n",
    "                        dfilters[d,:,:,:] += dpool[i, h, w, d] * cdata[i,vert_start:vert_end, horiz_start:horiz_end, :]\n",
    "                        dbiases[d,:,:,:] += dpool[i, h, w, d]\n",
    "\n",
    "\n",
    "        self.cnnfilters -= lr * dfilters #/gr_size\n",
    "        self.cnnbiases -= lr * dbiases #/gr_size\n",
    "    \n",
    "    def flatten(self,input):\n",
    "        self.unFlattenShape = input.shape\n",
    "#         print('self.unFlattenShape ',self.unFlattenShape)\n",
    "        f = input.flatten().reshape(input.shape[0],(input.shape[1] * input.shape[2]* input.shape[3]))\n",
    "        return f\n",
    "    \n",
    "    def unflatten(self,input):\n",
    "        un_flat = input.reshape(self.unFlattenShape)\n",
    "        return un_flat\n",
    "    \n",
    "    def pool_backward(self,pooledData, ConvolutedData,f, mode = \"max\"):\n",
    "\n",
    "        (n, n_H, n_W, n_D) = pooledData.shape\n",
    "        PooledBackData = np.zeros(ConvolutedData.shape) #poolBackShape must be equal convoluted data shape\n",
    "        for i in range(n):  \n",
    "            cd = ConvolutedData[i]\n",
    "            for h in range(n_H):          \n",
    "                for w in range(n_W):  \n",
    "                    for d in range(n_D):\n",
    "\n",
    "                        vert_start = h\n",
    "                        vert_end = vert_start + f\n",
    "                        horiz_start = w\n",
    "                        horiz_end = horiz_start + f\n",
    "\n",
    "                        if mode == \"max\":\n",
    "                            currentSlice = cd[vert_start:vert_end, horiz_start:horiz_end, d]\n",
    "                            poolMask = currentSlice == np.max(currentSlice)\n",
    "                            PooledBackData[i, vert_start:vert_end, horiz_start:horiz_end, d] += np.multiply(poolMask, pooledData[i, h, w, d])\n",
    "\n",
    "                        elif mode == \"avg\":\n",
    "                            cur_pooledData = pooledData[i, h, w, d]\n",
    "                            PooledBackData[i, vert_start:vert_end, horiz_start:horiz_end, d] += np.ones(f,f) * cur_pooledData / (f*f)\n",
    "        \n",
    "        # print(\"PooledBackData :\", PooledBackData.shape)\n",
    "        return PooledBackData\n",
    "\n",
    "    def saveModel(self,name):\n",
    "#         print('saving model')\n",
    "        path = \"/content/drive/My Drive/\"\n",
    "        saved_model = np.save('w1.npy', self.W1)\n",
    "        saved_model1 = np.save(\"w2.npy\", self.W2)\n",
    "        saved_model2 = np.save(\"w3.npy\", self.W3)\n",
    "\n",
    "        saved_model3 = np.save('b1.npy', self.b1)\n",
    "        saved_model4 = np.save(\"b2.npy\", self.b2)\n",
    "        saved_model5 = np.save(\"b3.npy\", self.b3)\n",
    "        \n",
    "        saved_model6 = np.save(\"cnnf.npy\", self.cnnfilters)\n",
    "        saved_model7 = np.save(\"cnnb.npy\", self.cnnbiases)\n",
    "#         print('model saved..')\n",
    "        \n",
    "    def loadModel(self,name):\n",
    "         # load your trained model, load exactly how you stored it.\n",
    "        self.W1= np.load('w1.npy')\n",
    "        self.W2= np.load('w2.npy')\n",
    "        self.W3= np.load('w3.npy')\n",
    "        self.b1= np.load('b1.npy')\n",
    "        self.b2= np.load('b2.npy')\n",
    "        self.b3= np.load('b3.npy')\n",
    "        self.cnnfilters = np.load(\"cnnf.npy\")\n",
    "        self.cnnbiases = np.load(\"cnnb.npy\")\n",
    "        self.errorTrain = np.load(\"et.npy\")\n",
    "        self.errorValid= np.load('ev.npy')\n",
    "        self.ValidationAccuracy = np.load(\"va.npy\")\n",
    "        self.TraingingAccuracy= np.load(\"av.npy\")\n",
    "        self.errorTrain = list(self.errorTrain)\n",
    "        self.TraingingAccuracy = list(self.TraingingAccuracy)\n",
    "        self.errorValid = list(self.errorValid)\n",
    "        self.ValidationAccuracy = list(self.ValidationAccuracy)\n",
    "        print(self.errorTrain)"
   ]
  },
  {
   "cell_type": "code",
   "execution_count": null,
   "metadata": {},
   "outputs": [],
   "source": [
    "from sklearn.metrics import confusion_matrix\n",
    "# from sklearn.metrics import multilabel_confusion_matrix"
   ]
  },
  {
   "cell_type": "markdown",
   "metadata": {},
   "source": [
    "(1500, 28, 28, 1) (1500, 10) (500, 28, 28, 1) (500, 10) (500, 28, 28, 1) (500, 10)"
   ]
  },
  {
   "cell_type": "code",
   "execution_count": 34,
   "metadata": {
    "scrolled": true
   },
   "outputs": [
    {
     "name": "stdout",
     "output_type": "stream",
     "text": [
      "(36, 5, 5, 1)\n",
      "(36, 1, 1, 1)\n",
      "...............................................\n",
      "epoch:  0 T error:  12.11098040223677 V error:  12.12315105619289 T acc:  16.133333333333333 V acc : 16.0\n",
      "...............................................\n",
      "epoch:  1 T error:  8.510126772375852 V error:  8.676739344678174 T acc:  13.133333333333333 V acc : 12.6\n",
      "...............................................\n",
      "epoch:  2 T error:  6.430158375949669 V error:  6.692587131235478 T acc:  17.133333333333333 V acc : 14.2\n",
      "...............................................\n",
      "epoch:  3 T error:  6.02977570612318 V error:  6.16261336100359 T acc:  16.066666666666666 V acc : 14.2\n",
      "...............................................\n",
      "epoch:  4 T error:  5.375092550637522 V error:  5.607520924031993 T acc:  19.26666666666667 V acc : 16.8\n",
      "...............................................\n",
      "epoch:  5 T error:  5.361375918259952 V error:  5.4156117073601 T acc:  17.733333333333334 V acc : 16.8\n",
      "...............................................\n",
      "epoch:  6 T error:  5.180007579629992 V error:  5.1095708876620645 T acc:  20.133333333333333 V acc : 20.0\n",
      "...............................................\n",
      "epoch:  7 T error:  4.607058786121884 V error:  4.6218105716226985 T acc:  24.133333333333333 V acc : 22.8\n",
      "...............................................\n",
      "epoch:  8 T error:  4.468768481985164 V error:  4.491290335247339 T acc:  25.733333333333334 V acc : 23.599999999999998\n",
      "...............................................\n",
      "epoch:  9 T error:  4.315604625201582 V error:  4.6188998935524666 T acc:  24.6 V acc : 23.0\n"
     ]
    },
    {
     "name": "stderr",
     "output_type": "stream",
     "text": [
      "D:\\Installed\\Anaconda\\lib\\site-packages\\ipykernel_launcher.py:180: FutureWarning: elementwise comparison failed; returning scalar instead, but in the future will perform elementwise comparison\n"
     ]
    },
    {
     "data": {
      "image/png": "[encoded data removed]",
      "text/plain": [
       "<Figure size 432x288 with 1 Axes>"
      ]
     },
     "metadata": {
      "needs_background": "light"
     },
     "output_type": "display_data"
    },
    {
     "data": {
      "image/png": "[encoded data removed]",
      "text/plain": [
       "<Figure size 432x288 with 1 Axes>"
      ]
     },
     "metadata": {
      "needs_background": "light"
     },
     "output_type": "display_data"
    }
   ],
   "source": [
    "pad =0\n",
    "stride =2\n",
    "f =3\n",
    "model = Neural_Network(2,900, [450,160,10],36,1,5)\n",
    "# try different combinations of epochs and learning rate\n",
    "model.train(trainX, trainY,pad =0 ,stride =2,f =3,Pmode = \"max\", epochs = 10, learningRate = .01,gr_size = 60, validationX = validX, validationY = validY)\n",
    "# model.test_accuracy(testX,testY, pad, stride, f)"
   ]
  },
  {
   "cell_type": "code",
   "execution_count": 34,
   "metadata": {},
   "outputs": [
    {
     "name": "stdout",
     "output_type": "stream",
     "text": [
      "(36, 5, 5, 1)\n",
      "(36, 1, 1, 1)\n"
     ]
    }
   ],
   "source": [
    "pad =0\n",
    "stride =2\n",
    "f =3\n",
    "model = Neural_Network(2,900, [450,160,10],36,1,5)\n",
    "# try different combinations of epochs and learning rate\n",
    "# model.loadModel(\"g\")"
   ]
  },
  {
   "cell_type": "code",
   "execution_count": 35,
   "metadata": {},
   "outputs": [
    {
     "data": {
      "image/png": "[encoded data removed]",
      "text/plain": [
       "<Figure size 432x288 with 36 Axes>"
      ]
     },
     "metadata": {
      "needs_background": "light"
     },
     "output_type": "display_data"
    }
   ],
   "source": [
    "for i in range(36):\n",
    "    plt.subplot(6,6,i+1)\n",
    "    plt.axis('off')\n",
    "    plt.imshow(model.cnnfilters[i,:,:,0], cmap = 'gray')"
   ]
  },
  {
   "cell_type": "code",
   "execution_count": null,
   "metadata": {},
   "outputs": [
    {
     "name": "stdout",
     "output_type": "stream",
     "text": [
      "(36, 5, 5, 1)\n",
      "(36, 1, 1, 1)\n",
      "1.8507021374834909  ...............................................\n",
      "epoch:  0 440623.36127159966 >> T error:  4.240391471606442 V error:  4.272842122193739 T acc:  29.296511370184845 V acc : 28.763297872340427\n",
      "1.7528055818213357  ...............................................\n",
      "epoch:  1 440626.0456306143 >> T error:  2.821749721781513 V error:  2.8484271573738265 T acc:  45.4009486236092 V acc : 45.86436170212766\n",
      "2.0530946546792985  ...............................................\n",
      "epoch:  2 440628.50872310885 >> T error:  2.181999594176084 V error:  2.204232258757271 T acc:  54.7054390708808 V acc : 54.56117021276595\n",
      "1.7492214868466058  ...............................................\n",
      "epoch:  3 440631.3135241423 >> T error:  1.8797118878846748 V error:  1.928960316259687 T acc:  59.763287379759745 V acc : 59.25531914893617\n",
      "1.8614036784569423  ...............................................\n",
      "epoch:  4 440633.81555023213 >> T error:  1.669038248772861 V error:  1.7463196810372963 T acc:  63.93457156788864 V acc : 62.73936170212766\n"
     ]
    }
   ],
   "source": [
    "pad =0\n",
    "stride =2\n",
    "f =3\n",
    "model = Neural_Network(2,900, [450,160,10],36,1,5)\n",
    "# try different combinations of epochs and learning rate\n",
    "# model.loadModel(\"g\")\n",
    "model.train(trainX, trainY,pad =0 ,stride =2,f =3,Pmode = \"max\", epochs = 15, learningRate = .01,gr_size = 60, validationX = validX, validationY = validY)\n",
    "# model.test_accuracy(testX,testY, pad, stride, f,\"max\")"
   ]
  },
  {
   "cell_type": "code",
   "execution_count": 11,
   "metadata": {},
   "outputs": [
    {
     "name": "stdout",
     "output_type": "stream",
     "text": [
      "(36, 5, 5, 1)\n",
      "(36, 1, 1, 1)\n",
      "[4.240391471606442, 2.821749721781513, 2.181999594176084, 1.8797118878846748, 1.669038248772861, 1.4380637743618556, 1.3623056070697186, 1.3656107912595983, 1.2651314346753044, 1.2173448627634926]\n"
     ]
    }
   ],
   "source": [
    "pad =0\n",
    "stride =2\n",
    "f =3\n",
    "model = Neural_Network(2,900, [450,160,10],36,1,5)\n",
    "# try different combinations of epochs and learning rate\n",
    "# model.loadModel(\"g\")"
   ]
  },
  {
   "cell_type": "code",
   "execution_count": null,
   "metadata": {},
   "outputs": [
    {
     "name": "stdout",
     "output_type": "stream",
     "text": [
      "1.923042945133315  ...............................................\n",
      "epoch:  0 >> T error:  1.3623056070697186 V error:  1.4510918178704009 T acc:  69.83022297087636 V acc : 68.36436170212767\n",
      "1.9006548327869839  ...............................................\n",
      "epoch:  1 >> T error:  1.3656107912595983 V error:  1.452271192506627 T acc:  70.25134092823264 V acc : 68.00531914893617\n",
      "1.9379855019516414  ...............................................\n",
      "epoch:  2 >> T error:  1.2651314346753044 V error:  1.3620270452712617 T acc:  72.17518507026021 V acc : 70.65159574468085\n"
     ]
    }
   ],
   "source": [
    "model.train(trainX, trainY,pad =0 ,stride =2,f =3,Pmode = \"max\", epochs = 4, learningRate = .01,gr_size = 60, validationX = validX, validationY = validY)\n",
    "# model.test_accuracy(testX,testY, pad, stride, f,\"max\")"
   ]
  },
  {
   "cell_type": "code",
   "execution_count": 22,
   "metadata": {},
   "outputs": [
    {
     "name": "stdout",
     "output_type": "stream",
     "text": [
      "test accuracy 70.48180924287118\n"
     ]
    }
   ],
   "source": [
    "model.test_accuracy(testX,testY, pad, stride, f,\"max\")"
   ]
  },
  {
   "cell_type": "markdown",
   "metadata": {},
   "source": [
    "Early stopping on 10 epochs only, with reported accuracies"
   ]
  },
  {
   "cell_type": "code",
   "execution_count": 13,
   "metadata": {},
   "outputs": [
    {
     "data": {
      "image/png": "[encoded data removed]",
      "text/plain": [
       "<Figure size 432x288 with 1 Axes>"
      ]
     },
     "metadata": {
      "needs_background": "light"
     },
     "output_type": "display_data"
    }
   ],
   "source": [
    "plt.plot(range(len(model.errorTrain)), model.errorTrain, label = 'Training loss curve')\n",
    "plt.legend()\n",
    "plt.title('loss curves')\n",
    "plt.plot(range(len(model.errorValid)), model.errorValid, label = 'Validation loss curve')\n",
    "plt.legend()\n",
    "plt.xlabel('Epochs') \n",
    "plt.ylabel('Entropy Loss') \n",
    "plt.show()"
   ]
  },
  {
   "cell_type": "code",
   "execution_count": 14,
   "metadata": {},
   "outputs": [
    {
     "data": {
      "image/png": "[encoded data removed]",
      "text/plain": [
       "<Figure size 432x288 with 1 Axes>"
      ]
     },
     "metadata": {
      "needs_background": "light"
     },
     "output_type": "display_data"
    }
   ],
   "source": [
    "plt.plot(range(len(model.TraingingAccuracy)), model.TraingingAccuracy, label = 'Trainging accuracy')\n",
    "plt.plot(range(len(model.ValidationAccuracy)), model.ValidationAccuracy, label = 'Validation accuracy')\n",
    "plt.legend()\n",
    "plt.title('Accuracy curves' )\n",
    "plt.xlabel('Epochs') \n",
    "plt.ylabel('Accuracy') \n",
    "plt.show()"
   ]
  },
  {
   "cell_type": "code",
   "execution_count": null,
   "metadata": {},
   "outputs": [],
   "source": []
  }
 ],
 "metadata": {
  "kernelspec": {
   "display_name": "Python 3",
   "language": "python",
   "name": "python3"
  },
  "language_info": {
   "codemirror_mode": {
    "name": "ipython",
    "version": 3
   },
   "file_extension": ".py",
   "mimetype": "text/x-python",
   "name": "python",
   "nbconvert_exporter": "python",
   "pygments_lexer": "ipython3",
   "version": "3.7.3"
  }
 },
 "nbformat": 4,
 "nbformat_minor": 2
}
